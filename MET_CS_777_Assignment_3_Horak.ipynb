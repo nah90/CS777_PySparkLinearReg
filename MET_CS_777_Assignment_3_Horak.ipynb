{
  "cells": [
    {
      "cell_type": "markdown",
      "metadata": {
        "id": "view-in-github",
        "colab_type": "text"
      },
      "source": [
        "<a href=\"https://colab.research.google.com/github/nah90/CS777_PySparkLinearReg/blob/main/MET_CS_777_Assignment_3_Horak.ipynb\" target=\"_parent\"><img src=\"https://colab.research.google.com/assets/colab-badge.svg\" alt=\"Open In Colab\"/></a>"
      ]
    },
    {
      "cell_type": "code",
      "execution_count": null,
      "metadata": {
        "id": "DazkoYEnNvCk"
      },
      "outputs": [],
      "source": [
        "!pip install --ignore-installed -q pyspark==3.2.1"
      ]
    },
    {
      "cell_type": "code",
      "execution_count": null,
      "metadata": {
        "id": "26OFIJedNvKh"
      },
      "outputs": [],
      "source": [
        "import os\n",
        "import sys\n",
        "import requests\n",
        "from operator import add\n",
        "\n",
        "from pyspark.sql import SparkSession\n",
        "\n",
        "from pyspark.sql.types import *\n",
        "from pyspark.sql import functions as func\n",
        "from pyspark.sql.functions import *\n",
        "import numpy as np\n",
        "\n",
        "#Exception Handling and removing wrong data lines\n",
        "def isfloat(value):\n",
        "    try:\n",
        "        float(value)\n",
        "        return True \n",
        "    except:\n",
        "         return False\n",
        "         \n",
        "# Added latitude/longitude filtering\n",
        "\n",
        "# checking if the trip distance and fare amount is a float number\n",
        "# checking if the trip duration is more than a minute, trip distance is more than 0.1 miles,\n",
        "# checking latitude/longitude \n",
        "# fare amount and total amount are more than 0.1 dollars\n",
        "\n",
        "# remove all taxi data with > 600$ and < 1$\n",
        "def correctRows(p):\n",
        "    if(len(p)==17):\n",
        "        if(isfloat(p[5]) and isfloat(p[11])):\n",
        "            if(float(p[4])> 60 and float(p[5])>0.10 and float(p[6])!=0 and float(p[7])!=0 and float(p[8])!=0 and float(p[9])!=0 and float(p[11])> 0.10 and float(p[16])> 0.10):\n",
        "              if(float(p[11]) <= 600 and float(p[11]) >= 1):\n",
        "                return p\n",
        "\n",
        "spark = SparkSession.builder.getOrCreate()\n",
        "sc = spark.sparkContext"
      ]
    },
    {
      "cell_type": "code",
      "execution_count": null,
      "metadata": {
        "id": "9-7tAoUMQE7X"
      },
      "outputs": [],
      "source": [
        "# Set your file path here\n",
        "\n",
        "! wget -q https://storage.googleapis.com/met-cs-777-data/taxi-data-sorted-small.csv.bz2\n",
        "\n",
        "\n",
        "taxiFile = \"taxi-data-sorted-small.csv.bz2\"\n",
        "#taxiFile = 'gs://met-cs-777-data/taxi-data-sorted-large.csv.bz2'\n",
        "taxiDF = spark.read.format('csv').options(header='false', inferSchema='false',  sep =\",\").load(taxiFile)\n",
        "\n",
        "taxilines_rdd = taxiDF.limit(200).rdd.map(tuple)\n",
        "#taxilines_rdd = taxiDF.limit.rdd.map(tuple) #Works with full dataset too\n",
        "taxilinesCorrected = taxilines_rdd.filter(correctRows)"
      ]
    },
    {
      "cell_type": "code",
      "execution_count": null,
      "metadata": {
        "id": "2o2n7-SX0mVr"
      },
      "outputs": [],
      "source": [
        "#Task 1\n",
        "rdd1 = taxilinesCorrected.map(lambda x: (float(x[5]), float(x[11])))"
      ]
    },
    {
      "cell_type": "code",
      "execution_count": null,
      "metadata": {
        "colab": {
          "base_uri": "https://localhost:8080/"
        },
        "id": "AWmHQcCHHYW2",
        "outputId": "0d16e1ca-7bf7-4fad-e2b6-a9cbeb4e8aab"
      },
      "outputs": [
        {
          "output_type": "stream",
          "name": "stdout",
          "text": [
            "m = 2.4573454657452714, b = 3.171696295716903\n"
          ]
        }
      ],
      "source": [
        "#linear reg calcs\n",
        "lrc = rdd1.map(lambda x: np.array([x[0]*x[0], x[0]*x[1], x[0], x[1], 1])).reduce(add)\n",
        "\n",
        "m_hat = (lrc[4]*lrc[1] - (lrc[2]*lrc[3]))/(lrc[4] * lrc[0] - (lrc[2]**2))\n",
        "b_hat = ((lrc[0]*lrc[3]) - (lrc[2]*lrc[1]))/(lrc[4] * lrc[0] - (lrc[2]**2))\n",
        "\n",
        "print(f\"m = {m_hat}, b = {b_hat}\")"
      ]
    },
    {
      "cell_type": "code",
      "execution_count": null,
      "metadata": {
        "id": "OWICbIYkCB2Z",
        "colab": {
          "base_uri": "https://localhost:8080/"
        },
        "outputId": "1b7e4cc4-8cc9-44b2-8179-7c3bd4f42509"
      },
      "outputs": [
        {
          "output_type": "execute_result",
          "data": {
            "text/plain": [
              "PythonRDD[29] at RDD at PythonRDD.scala:53"
            ]
          },
          "metadata": {},
          "execution_count": 9
        }
      ],
      "source": [
        "#Task 2\n",
        "taxiDFf = taxilinesCorrected.map(tuple).map(lambda x: (float(x[5]), float(x[11])))\n",
        "taxi2DF = spark.createDataFrame(taxiDFf, schema= ['Distance', 'Fare Amount'])\n",
        "\n",
        "rdd2 = taxi2DF.rdd.map(lambda x: (float(x[1]), np.array([1, float(x[0])])))\n",
        "rdd2.cache()"
      ]
    },
    {
      "cell_type": "code",
      "execution_count": null,
      "metadata": {
        "id": "AHkPrVru1--T",
        "colab": {
          "base_uri": "https://localhost:8080/"
        },
        "outputId": "0ee935dd-4957-4dc4-83bc-d0888da73e14"
      },
      "outputs": [
        {
          "output_type": "stream",
          "name": "stdout",
          "text": [
            "1 m =  0.10000074736110527 b =  0.10000046332017544  Cost =  7330.920667999998\n",
            "2 m =  0.10000153209006998 b =  0.10000094980624562  Cost =  7330.917142143648\n",
            "3 m =  0.10000235605526704 b =  0.10000146061649359  Cost =  7330.913439996322\n",
            "4 m =  0.10000322121848593 b =  0.10000199696711536  Cost =  7330.909552743656\n",
            "5 m =  0.10000412963960335 b =  0.1000025601351154  Cost =  7330.905471130594\n",
            "6 m =  0.10000508348148733 b =  0.10000315146134697  Cost =  7330.901185439337\n",
            "7 m =  0.10000608501514655 b =  0.10000377235370438  Cost =  7330.896685466241\n",
            "8 m =  0.10000713662513706 b =  0.10000442429047487  Cost =  7330.891960497482\n",
            "9 m =  0.1000082408152394 b =  0.10000510882385813  Cost =  7330.88699928359\n",
            "10 m =  0.10000940021441941 b =  0.10000582758366162  Cost =  7330.881790012643\n",
            "11 m =  0.10001061758308717 b =  0.10000658228118087  Cost =  7330.876320282168\n",
            "12 m =  0.10001189581966875 b =  0.10000737471327352  Cost =  7330.8705770695915\n",
            "13 m =  0.10001323796750661 b =  0.10000820676663724  Cost =  7330.864546701271\n",
            "14 m =  0.10001464722210482 b =  0.10000908042230139  Cost =  7330.858214819911\n",
            "15 m =  0.10001612693873668 b =  0.10000999776034329  Cost =  7330.851566350411\n",
            "16 m =  0.10001768064043251 b =  0.10001096096484029  Cost =  7330.844585463976\n",
            "17 m =  0.10001931202636682 b =  0.1000119723290693  Cost =  7330.837255540432\n",
            "18 m =  0.1000210249806648 b =  0.10001303426096642  Cost =  7330.829559128664\n",
            "19 m =  0.10002282358164899 b =  0.10001414928885935  Cost =  7330.821477905067\n",
            "20 m =  0.10002471211154826 b =  0.1000153200674865  Cost =  7330.812992629954\n",
            "21 m =  0.10002669506669211 b =  0.10001654938431687  Cost =  7330.804083101735\n",
            "22 m =  0.10002877716821462 b =  0.10001784016618599  Cost =  7330.79472810885\n",
            "23 m =  0.10003096337329341 b =  0.10001919548626353  Cost =  7330.784905379265\n",
            "24 m =  0.10003325888695053 b =  0.10002061857136918  Cost =  7330.774591527484\n",
            "25 m =  0.10003566917444312 b =  0.10002211280965434  Cost =  7330.763761998844\n",
            "26 m =  0.10003819997427361 b =  0.10002368175866772  Cost =  7330.752391011127\n",
            "27 m =  0.10004085731185014 b =  0.10002532915382414  Cost =  7330.740451493156\n",
            "28 m =  0.10004364751382985 b =  0.10002705891729674  Cost =  7330.727915020375\n",
            "29 m =  0.10004657722317914 b =  0.10002887516735356  Cost =  7330.714751747205\n",
            "30 m =  0.10004965341498673 b =  0.1000307822281609  Cost =  7330.700930336012\n",
            "31 m =  0.1000528834130671 b =  0.10003278464007669  Cost =  7330.686417882525\n",
            "32 m =  0.10005627490739386 b =  0.10003488717045829  Cost =  7330.671179837524\n",
            "33 m =  0.10005983597240438 b =  0.1000370948250107  Cost =  7330.655179924626\n",
            "34 m =  0.10006357508621955 b =  0.10003941285970178  Cost =  7330.638380053955\n",
            "35 m =  0.1000675011508239 b =  0.10004184679327306  Cost =  7330.620740231515\n",
            "36 m =  0.10007162351325448 b =  0.10004440242037602  Cost =  7330.602218463981\n",
            "37 m =  0.1000759519878487 b =  0.10004708582536467  Cost =  7330.582770658835\n",
            "38 m =  0.10008049687960406 b =  0.10004990339677769  Cost =  7330.562350519386\n",
            "39 m =  0.10008526900870536 b =  0.10005286184254424  Cost =  7330.54090943466\n",
            "40 m =  0.10009027973627761 b =  0.10005596820594972  Cost =  7330.518396363712\n",
            "41 m =  0.10009554099142602 b =  0.10005922988239956  Cost =  7330.494757714208\n",
            "42 m =  0.10010106529962715 b =  0.10006265463702055  Cost =  7330.4699372149\n",
            "43 m =  0.10010686581253891 b =  0.10006625062314202  Cost =  7330.443875781776\n",
            "44 m =  0.10011295633930019 b =  0.10007002640170036  Cost =  7330.416511377491\n",
            "45 m =  0.10011935137939437 b =  0.10007399096161335  Cost =  7330.387778863781\n",
            "46 m =  0.10012606615715511 b =  0.10007815374117245  Cost =  7330.357609846534\n",
            "47 m =  0.1001331166579961 b =  0.10008252465050417  Cost =  7330.325932513081\n",
            "48 m =  0.10014051966645109 b =  0.10008711409515363  Cost =  7330.292671461429\n",
            "49 m =  0.10014829280611445 b =  0.10009193300084647  Cost =  7330.257747520884\n",
            "50 m =  0.1001564545815772 b =  0.10009699283948802  Cost =  7330.221077563771\n"
          ]
        },
        {
          "output_type": "execute_result",
          "data": {
            "text/plain": [
              "PythonRDD[29] at RDD at PythonRDD.scala:53"
            ]
          },
          "metadata": {},
          "execution_count": 10
        }
      ],
      "source": [
        "#Gradient Descent\n",
        "learningRate = 0.000000075\n",
        "num_iteration = 50\n",
        "cost = np.array([np.Inf, np.Inf]) #Cost array of size 2 for Bold Driver, start with np.Inf\n",
        "beta = np.array([0.1, 0.1])\n",
        "size = float(rdd2.count())\n",
        "\n",
        "for i in range(num_iteration):  \n",
        "\n",
        "    gradientCost=rdd2.map(lambda x: (x[1], (x[0] - (np.dot(x[1], beta)))))\\\n",
        "                           .map(lambda x: np.array([x[0]*x[1], x[1]**2])).treeReduce(add)\n",
        "   \n",
        "    cost[1] = cost[0]\n",
        "    cost[0]= gradientCost[1]\n",
        "\n",
        "    if i > 0: #Don't need to adjust learning rate for first iteration as there is no previous cost to compare it to\n",
        "      if cost[0] < cost[1]:\n",
        "        learningRate = learningRate * 1.05\n",
        "      elif cost[0] > cost[1]:\n",
        "        learningRate = learningRate * 0.5\n",
        "    \n",
        "    gradient = (-1/size) * gradientCost[0]\n",
        "\n",
        "    beta = beta - learningRate * gradient\n",
        "\n",
        "    print(i+1, 'm = ', beta[1], 'b = ', beta[0],\" Cost = \", cost[0])\n",
        "\n",
        "rdd2.unpersist()"
      ]
    },
    {
      "cell_type": "code",
      "execution_count": null,
      "metadata": {
        "id": "9zeyKlz3eWq0",
        "colab": {
          "base_uri": "https://localhost:8080/"
        },
        "outputId": "8719d396-0c02-4867-cec8-1e7e19333f99"
      },
      "outputs": [
        {
          "output_type": "execute_result",
          "data": {
            "text/plain": [
              "PythonRDD[90] at RDD at PythonRDD.scala:53"
            ]
          },
          "metadata": {},
          "execution_count": 11
        }
      ],
      "source": [
        "#Task 3\n",
        "\n",
        "taxiDFf = taxilinesCorrected.map(tuple).map(lambda x: (float(x[4]), float(x[5]), float(x[11]), float(x[12]), float(x[16])))\n",
        "taxi3DF = spark.createDataFrame(taxiDFf, schema= ['Duration', 'Distance', 'Fare Amount', 'Bridge/Tunnel Toll', 'Total Paid'])\n",
        "\n",
        "rdd3  = taxi3DF.rdd.map(lambda x: (float(x[4]), np.array([1, float(x[0]), float(x[1]), float(x[2]), float(x[3])])))\n",
        "rdd3.cache()"
      ]
    },
    {
      "cell_type": "code",
      "execution_count": null,
      "metadata": {
        "id": "eLhAuhUrRPB_",
        "colab": {
          "base_uri": "https://localhost:8080/"
        },
        "outputId": "f4dc0ddc-e31e-411c-c379-a3f357ccef49"
      },
      "outputs": [
        {
          "output_type": "stream",
          "name": "stdout",
          "text": [
            "1 m =  [1.35043684e-04 6.19841228e-07 2.79933480e-06 1.97304094e-07] b =  3.946081871345029e-07  Cost =  11740.179599999998\n",
            "2 m =  [2.76045561e-04 1.26724927e-06 5.72290942e-06 4.03379130e-07] b =  8.067582606766487e-07  Cost =  11615.731747867829\n",
            "3 m =  [4.23227057e-04 1.94327252e-06 8.77542094e-06 6.18558251e-07] b =  1.2371165018954758e-06  Cost =  11486.53890084593\n",
            "4 m =  [5.76813572e-04 2.64898118e-06 1.19616607e-05 8.43181470e-07] b =  1.6863629398103765e-06  Cost =  11352.496594727325\n",
            "5 m =  [7.37034060e-04 3.38546566e-06 1.52865067e-05 1.07759517e-06] b =  2.1551903366285567e-06  Cost =  11213.506063549947\n",
            "6 m =  [9.04120542e-04 4.15383475e-06 1.87549149e-05 1.32215150e-06] b =  2.6443029920805555e-06  Cost =  11069.47527046005\n",
            "7 m =  [1.07830754e-03 4.95521344e-06 2.23719089e-05 1.57720768e-06] b =  3.1544153504115397e-06  Cost =  10920.320017627471\n",
            "8 m =  [1.25983145e-03 5.79074040e-06 2.61425681e-05 1.84312520e-06] b =  3.6862503930559454e-06  Cost =  10765.965136166986\n",
            "9 m =  [1.44892980e-03 6.66156518e-06 3.00720143e-05 2.12026890e-06] b =  4.240537799363448e-06  Cost =  10606.34575619143\n",
            "10 m =  [1.64584041e-03 7.56884487e-06 3.41653962e-05 2.40900593e-06] b =  4.818011857179513e-06  Cost =  10441.408656133442\n",
            "11 m =  [1.85080052e-03 8.51374053e-06 3.84278725e-05 2.70970455e-06] b =  5.4194091046419715e-06  Cost =  10271.113689306783\n",
            "12 m =  [2.06404570e-03 9.49741297e-06 4.28645919e-05 3.02273284e-06] b =  6.045465684268588e-06  Cost =  10095.435284321304\n",
            "13 m =  [2.28580875e-03 1.05210182e-05 4.74806726e-05 3.34845720e-06] b =  6.696914390316184e-06  Cost =  9914.364014402556\n",
            "14 m =  [2.51631841e-03 1.15857024e-05 5.22811773e-05 3.68724070e-06] b =  7.374481390531509e-06  Cost =  9727.90822888552\n",
            "15 m =  [2.75579795e-03 1.26925960e-05 5.72710874e-05 4.03944130e-06] b =  8.078882603834483e-06  Cost =  9536.09573814145\n",
            "16 m =  [3.00446366e-03 1.38428078e-05 6.24552740e-05 4.40540986e-06] b =  8.810819716228276e-06  Cost =  9338.975540950369\n",
            "17 m =  [3.26252319e-03 1.50374181e-05 6.78384658e-05 4.78548791e-06] b =  9.570975818375922e-06  Cost =  9136.6195808464\n",
            "18 m =  [3.53017369e-03 1.62774710e-05 7.34252150e-05 5.18000532e-06] b =  1.0360010649883579e-05  Cost =  8929.124515241983\n",
            "19 m =  [3.80759985e-03 1.75639667e-05 7.92198590e-05 5.58927772e-06] b =  1.1178555437455595e-05  Cost =  8716.613478190366\n",
            "20 m =  [4.09497179e-03 1.88978526e-05 8.52264808e-05 6.01360366e-06] b =  1.2027207316811112e-05  Cost =  8499.237814491116\n",
            "21 m =  [4.39244275e-03 2.02800141e-05 9.14488645e-05 6.45326167e-06] b =  1.2906523331655602e-05  Cost =  8277.178759511915\n",
            "22 m =  [4.70014667e-03 2.17112642e-05 9.78904491e-05 6.90850700e-06] b =  1.3817014007167832e-05  Cost =  8050.649035630206\n",
            "23 m =  [5.01819553e-03 2.31923335e-05 1.04554279e-04 7.37956825e-06] b =  1.475913650047988e-05  Cost =  7819.894332648826\n",
            "24 m =  [5.34667664e-03 2.47238580e-05 1.11442950e-04 7.86664367e-06] b =  1.573328733658418e-05  Cost =  7585.194635980069\n",
            "25 m =  [5.68564971e-03 2.63063679e-05 1.18558555e-04 8.36989737e-06] b =  1.6739794745084965e-05  Cost =  7346.865362913326\n",
            "26 m =  [6.03514378e-03 2.79402747e-05 1.25902625e-04 8.88945531e-06] b =  1.77789106213078e-05  Cost =  7105.258263992941\n",
            "27 m =  [6.39515404e-03 2.96258580e-05 1.33476068e-04 9.42540107e-06] b =  1.8850802144568895e-05  Cost =  6860.762043563915\n",
            "28 m =  [6.76563851e-03 3.13632523e-05 1.41279107e-04 9.97777155e-06] b =  1.995554309695546e-05  Cost =  6613.802651048227\n",
            "29 m =  [7.14651467e-03 3.31524329e-05 1.49311214e-04 1.05465525e-05] b =  2.1093104937833233e-05  Cost =  6364.843192666978\n",
            "30 m =  [7.53765595e-03 3.49932016e-05 1.57571043e-04 1.11316739e-05] b =  2.2263347702512246e-05  Cost =  6114.3834123201195\n",
            "31 m =  [7.93888825e-03 3.68851726e-05 1.66056365e-04 1.17330054e-05] b =  2.346601080807327e-05  Cost =  5862.958690390764\n",
            "32 m =  [8.34998638e-03 3.88277579e-05 1.74764002e-04 1.23503519e-05] b =  2.4700703865258074e-05  Cost =  5611.138510586055\n",
            "33 m =  [8.77067061e-03 4.08201534e-05 1.83689756e-04 1.29834488e-05] b =  2.596689761248534e-05  Cost =  5359.524347801624\n",
            "34 m =  [9.20060321e-03 4.28613251e-05 1.92828352e-04 1.36319576e-05] b =  2.726391510634748e-05  Cost =  5108.746934645355\n",
            "35 m =  [9.63938525e-03 4.49499958e-05 2.02173369e-04 1.42954617e-05] b =  2.859092332218462e-05  Cost =  4859.462870914159\n",
            "36 m =  [1.00865535e-02 4.70846334e-05 2.11717189e-04 1.49734627e-05] b =  2.994692533825924e-05  Cost =  4612.350549199884\n",
            "37 m =  [1.05415776e-02 4.92634395e-05 2.21450943e-04 1.56653766e-05] b =  3.133075329732138e-05  Cost =  4368.105381087433\n",
            "38 m =  [1.10038578e-02 5.14843401e-05 2.31364464e-04 1.63705312e-05] b =  3.274106235951516e-05  Cost =  4127.4343222254165\n",
            "39 m =  [1.14727225e-02 5.37449784e-05 2.41446257e-04 1.70881629e-05] b =  3.417632588007925e-05  Cost =  3891.0497109480602\n",
            "40 m =  [1.19474273e-02 5.60427092e-05 2.51683466e-04 1.78174160e-05] b =  3.563483206346532e-05  Cost =  3659.662454061152\n",
            "41 m =  [1.24271538e-02 5.83745971e-05 2.62061869e-04 1.85573412e-05] b =  3.711468236154231e-05  Cost =  3433.9746147067203\n",
            "42 m =  [1.29110095e-02 6.07374165e-05 2.72565874e-04 1.93068959e-05] b =  3.8613791896541543e-05  Cost =  3214.6714805789397\n",
            "43 m =  [1.33980286e-02 6.31276565e-05 2.83178540e-04 2.00649461e-05] b =  4.01298921982712e-05  Cost =  3002.4132156979394\n",
            "44 m =  [1.38871733e-02 6.55415290e-05 2.93881612e-04 2.08302683e-05] b =  4.166053654870452e-05  Cost =  2797.8262247934977\n",
            "45 m =  [1.43773367e-02 6.79749823e-05 3.04655582e-04 2.16015541e-05] b =  4.320310822403274e-05  Cost =  2601.4943852446054\n",
            "46 m =  [1.48673465e-02 7.04237183e-05 3.15479764e-04 2.23774160e-05] b =  4.4754831913290485e-05  Cost =  2413.950326400547\n",
            "47 m =  [1.53559701e-02 7.28832164e-05 3.26332406e-04 2.31563943e-05] b =  4.6312788572278155e-05  Cost =  2235.666958720387\n",
            "48 m =  [1.58419205e-02 7.53487622e-05 3.37190813e-04 2.39369670e-05] b =  4.787393394028825e-05  Cost =  2067.049474091605\n",
            "49 m =  [1.63238646e-02 7.78154832e-05 3.48031514e-04 2.47175605e-05] b =  4.943512090371855e-05  Cost =  1908.4280523848113\n",
            "50 m =  [1.68004318e-02 8.02783896e-05 3.58830441e-04 2.54965629e-05] b =  5.0993125833793585e-05  Cost =  1760.051516172798\n"
          ]
        }
      ],
      "source": [
        "#Gradient Descent\n",
        "learningRate = 0.00000005\n",
        "num_iteration = 50\n",
        "cost = np.array([np.Inf, np.Inf]) #Cost array of size 2 for Bold Driver, start with np.Inf\n",
        "beta = np.array([0, 0, 0, 0, 0]) #Four independent variables\n",
        "size = float(rdd3.count())\n",
        "\n",
        "for i in range(num_iteration):\n",
        "\n",
        "    gradientCost=rdd3.map(lambda x: (x[1], (x[0] - (np.dot(x[1], beta)))))\\\n",
        "                           .map(lambda x: np.array([x[0]*x[1], x[1]**2])).treeReduce(add)\n",
        "                           \n",
        "    cost[1] = cost[0]\n",
        "    cost[0]= gradientCost[1]\n",
        "\n",
        "    if i > 0: #Don't need to adjust learning rate for first iteration as there is no previous cost to compare it to\n",
        "      if cost[0] < cost[1]:\n",
        "        learningRate = learningRate * 1.05\n",
        "      elif cost[0] > cost[1]:\n",
        "        learningRate = learningRate * 0.5\n",
        "    \n",
        "    gradient = (-1/size) * gradientCost[0]\n",
        "\n",
        "    beta = beta - learningRate * gradient\n",
        "\n",
        "    print(i+1, 'm = ', beta[1:], 'b = ', beta[0],\" Cost = \", cost[0])\n"
      ]
    },
    {
      "cell_type": "code",
      "execution_count": null,
      "metadata": {
        "id": "i2FtYKVE5mhP"
      },
      "outputs": [],
      "source": [
        "spark.stop(); sc.stop()"
      ]
    }
  ],
  "metadata": {
    "colab": {
      "collapsed_sections": [],
      "name": "MET CS 777 Assignment 3 Horak",
      "provenance": [],
      "include_colab_link": true
    },
    "kernelspec": {
      "display_name": "Python 3",
      "name": "python3"
    },
    "language_info": {
      "name": "python"
    }
  },
  "nbformat": 4,
  "nbformat_minor": 0
}